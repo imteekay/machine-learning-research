{
  "cells": [
    {
      "cell_type": "markdown",
      "id": "9f40c232-df6e-49df-9016-6459e4af2e1e",
      "metadata": {
        "tags": [],
        "id": "9f40c232-df6e-49df-9016-6459e4af2e1e"
      },
      "source": [
        "# Masked Self-Attention in PyTorch"
      ]
    },
    {
      "cell_type": "code",
      "execution_count": 1,
      "id": "5c520e0b-c6e4-43ce-93f5-c0f2b5e75438",
      "metadata": {
        "height": 64,
        "id": "5c520e0b-c6e4-43ce-93f5-c0f2b5e75438"
      },
      "outputs": [],
      "source": [
        "import torch\n",
        "import torch.nn as nn\n",
        "import torch.nn.functional as F"
      ]
    },
    {
      "cell_type": "markdown",
      "id": "125c4f0d-83b6-488f-8d91-66c54776bf2f",
      "metadata": {
        "id": "125c4f0d-83b6-488f-8d91-66c54776bf2f"
      },
      "source": [
        "# Code Masked Self-Attention\n",
        "<a id=\"masked\"></a>"
      ]
    },
    {
      "cell_type": "code",
      "execution_count": 2,
      "id": "e3392130-cd25-4000-97bb-9612764c83a8",
      "metadata": {
        "height": 676,
        "id": "e3392130-cd25-4000-97bb-9612764c83a8"
      },
      "outputs": [],
      "source": [
        "class MaskedSelfAttention(nn.Module):\n",
        "    def __init__(self, d_model=2, row_dim=0, col_dim=1):\n",
        "        super().__init__()\n",
        "\n",
        "        self.W_q = nn.Linear(in_features=d_model, out_features=d_model, bias=False)\n",
        "        self.W_k = nn.Linear(in_features=d_model, out_features=d_model, bias=False)\n",
        "        self.W_v = nn.Linear(in_features=d_model, out_features=d_model, bias=False)\n",
        "\n",
        "        self.row_dim = row_dim\n",
        "        self.col_dim = col_dim\n",
        "\n",
        "    def forward(self, token_encodings, mask=None):\n",
        "        q = self.W_q(token_encodings)\n",
        "        k = self.W_k(token_encodings)\n",
        "        v = self.W_v(token_encodings)\n",
        "\n",
        "        sims = torch.matmul(q, k.transpose(dim0=self.row_dim, dim1=self.col_dim))\n",
        "\n",
        "        scaled_sims = sims / torch.tensor(k.size(self.col_dim)**0.5)\n",
        "\n",
        "        if mask is not None:\n",
        "            scaled_sims = scaled_sims.masked_fill(mask=mask, value=-1e9) # I've also seen -1e20 and -9e15 used in masking\n",
        "\n",
        "        attention_percents = F.softmax(scaled_sims, dim=self.col_dim)\n",
        "        attention_scores = torch.matmul(attention_percents, v)\n",
        "\n",
        "        return attention_scores"
      ]
    },
    {
      "cell_type": "markdown",
      "id": "371cd1e0-0216-438d-a241-05533e4b374d",
      "metadata": {
        "id": "371cd1e0-0216-438d-a241-05533e4b374d"
      },
      "source": [
        "----"
      ]
    },
    {
      "cell_type": "markdown",
      "id": "c75aaaa3-29e0-4c03-8a11-816bd4b7aea3",
      "metadata": {
        "id": "c75aaaa3-29e0-4c03-8a11-816bd4b7aea3"
      },
      "source": [
        "# Calculate Masked Self-Attention\n",
        "<a id=\"masked\"></a>"
      ]
    },
    {
      "cell_type": "code",
      "execution_count": 3,
      "id": "0946c6d7-9960-4f49-8aa6-20dd614efbdc",
      "metadata": {
        "height": 319,
        "colab": {
          "base_uri": "https://localhost:8080/"
        },
        "id": "0946c6d7-9960-4f49-8aa6-20dd614efbdc",
        "outputId": "70b4c68b-c899-4602-da03-a1477ef440dd"
      },
      "outputs": [
        {
          "output_type": "execute_result",
          "data": {
            "text/plain": [
              "tensor([[False,  True,  True],\n",
              "        [False, False,  True],\n",
              "        [False, False, False]])"
            ]
          },
          "metadata": {},
          "execution_count": 3
        }
      ],
      "source": [
        "encodings_matrix = torch.tensor([[1.16, 0.23],\n",
        "                                 [0.57, 1.36],\n",
        "                                 [4.41, -2.16]])\n",
        "torch.manual_seed(42)\n",
        "maskedSelfAttention = MaskedSelfAttention(d_model=2,\n",
        "                               row_dim=0,\n",
        "                               col_dim=1)\n",
        "\n",
        "mask = torch.tril(torch.ones(3, 3))\n",
        "mask = mask == 0\n",
        "mask"
      ]
    },
    {
      "cell_type": "code",
      "execution_count": 4,
      "id": "dbfda93b-f139-4bc4-aa17-a502888ef48c",
      "metadata": {
        "height": 47,
        "colab": {
          "base_uri": "https://localhost:8080/"
        },
        "id": "dbfda93b-f139-4bc4-aa17-a502888ef48c",
        "outputId": "894af5fa-1abc-4569-c4f1-d7d3d01dfd27"
      },
      "outputs": [
        {
          "output_type": "execute_result",
          "data": {
            "text/plain": [
              "tensor([[ 0.6038,  0.7434],\n",
              "        [-0.0062,  0.6072],\n",
              "        [ 3.4989,  2.2427]], grad_fn=<MmBackward0>)"
            ]
          },
          "metadata": {},
          "execution_count": 4
        }
      ],
      "source": [
        "maskedSelfAttention(encodings_matrix, mask)"
      ]
    },
    {
      "cell_type": "markdown",
      "id": "c25086ad-92d0-4396-8484-d9dab376ef50",
      "metadata": {
        "id": "c25086ad-92d0-4396-8484-d9dab376ef50"
      },
      "source": [
        "# Print Out Weights and Verify Calculations\n",
        "<a id=\"validate\"></a>"
      ]
    },
    {
      "cell_type": "code",
      "execution_count": 5,
      "id": "0ceddcba-be60-46fe-80bd-fa74e97ea62f",
      "metadata": {
        "height": 47,
        "colab": {
          "base_uri": "https://localhost:8080/"
        },
        "id": "0ceddcba-be60-46fe-80bd-fa74e97ea62f",
        "outputId": "1c3bac95-fd4a-4d27-df63-a312aa9a549c"
      },
      "outputs": [
        {
          "output_type": "execute_result",
          "data": {
            "text/plain": [
              "tensor([[ 0.5406, -0.1657],\n",
              "        [ 0.5869,  0.6496]], grad_fn=<TransposeBackward0>)"
            ]
          },
          "metadata": {},
          "execution_count": 5
        }
      ],
      "source": [
        "maskedSelfAttention.W_q.weight.transpose(0, 1)"
      ]
    },
    {
      "cell_type": "code",
      "execution_count": 6,
      "id": "c4348097-376a-40fc-a133-7d366ca9a007",
      "metadata": {
        "height": 47,
        "colab": {
          "base_uri": "https://localhost:8080/"
        },
        "id": "c4348097-376a-40fc-a133-7d366ca9a007",
        "outputId": "0cd3ffba-0589-4450-eec0-4464383484da"
      },
      "outputs": [
        {
          "output_type": "execute_result",
          "data": {
            "text/plain": [
              "tensor([[ 0.5406, -0.1657],\n",
              "        [ 0.5869,  0.6496]], grad_fn=<TransposeBackward0>)"
            ]
          },
          "metadata": {},
          "execution_count": 6
        }
      ],
      "source": [
        "maskedSelfAttention.W_q.weight.transpose(0, 1)"
      ]
    },
    {
      "cell_type": "code",
      "execution_count": 7,
      "id": "03331fba-9985-48e0-92ba-d72118c7a9c0",
      "metadata": {
        "height": 47,
        "colab": {
          "base_uri": "https://localhost:8080/"
        },
        "id": "03331fba-9985-48e0-92ba-d72118c7a9c0",
        "outputId": "95fc4697-66de-4f7c-d067-07be94b7a266"
      },
      "outputs": [
        {
          "output_type": "execute_result",
          "data": {
            "text/plain": [
              "tensor([[-0.1549, -0.3443],\n",
              "        [ 0.1427,  0.4153]], grad_fn=<TransposeBackward0>)"
            ]
          },
          "metadata": {},
          "execution_count": 7
        }
      ],
      "source": [
        "maskedSelfAttention.W_k.weight.transpose(0, 1)"
      ]
    },
    {
      "cell_type": "code",
      "execution_count": 8,
      "id": "89d1e184-4fd0-4e6c-bd24-6916df2f76d8",
      "metadata": {
        "height": 47,
        "colab": {
          "base_uri": "https://localhost:8080/"
        },
        "id": "89d1e184-4fd0-4e6c-bd24-6916df2f76d8",
        "outputId": "98e70456-14ee-4625-b724-7dd67a6a8397"
      },
      "outputs": [
        {
          "output_type": "execute_result",
          "data": {
            "text/plain": [
              "tensor([[ 0.6233,  0.6146],\n",
              "        [-0.5188,  0.1323]], grad_fn=<TransposeBackward0>)"
            ]
          },
          "metadata": {},
          "execution_count": 8
        }
      ],
      "source": [
        "maskedSelfAttention.W_v.weight.transpose(0, 1)"
      ]
    },
    {
      "cell_type": "code",
      "execution_count": 9,
      "id": "55d27388-5b15-4ee5-b39c-61903df18286",
      "metadata": {
        "height": 47,
        "colab": {
          "base_uri": "https://localhost:8080/"
        },
        "id": "55d27388-5b15-4ee5-b39c-61903df18286",
        "outputId": "1d3ed232-52c3-437d-a8e7-d16e863aada9"
      },
      "outputs": [
        {
          "output_type": "execute_result",
          "data": {
            "text/plain": [
              "tensor([[ 0.7621, -0.0428],\n",
              "        [ 1.1063,  0.7890],\n",
              "        [ 1.1164, -2.1336]], grad_fn=<MmBackward0>)"
            ]
          },
          "metadata": {},
          "execution_count": 9
        }
      ],
      "source": [
        "maskedSelfAttention.W_q(encodings_matrix)"
      ]
    },
    {
      "cell_type": "code",
      "execution_count": 10,
      "id": "c4b3425e-7b2f-4282-b4df-a2da6712c1c6",
      "metadata": {
        "height": 47,
        "colab": {
          "base_uri": "https://localhost:8080/"
        },
        "id": "c4b3425e-7b2f-4282-b4df-a2da6712c1c6",
        "outputId": "0d015b47-4862-4f9a-db4d-352f0e7ee779"
      },
      "outputs": [
        {
          "output_type": "execute_result",
          "data": {
            "text/plain": [
              "tensor([[-0.1469, -0.3038],\n",
              "        [ 0.1057,  0.3685],\n",
              "        [-0.9914, -2.4152]], grad_fn=<MmBackward0>)"
            ]
          },
          "metadata": {},
          "execution_count": 10
        }
      ],
      "source": [
        "maskedSelfAttention.W_k(encodings_matrix)"
      ]
    },
    {
      "cell_type": "code",
      "execution_count": 11,
      "id": "9ff03c5b-62a6-4cda-94fc-1aac994e4ad5",
      "metadata": {
        "height": 47,
        "colab": {
          "base_uri": "https://localhost:8080/"
        },
        "id": "9ff03c5b-62a6-4cda-94fc-1aac994e4ad5",
        "outputId": "f55fbd93-8e1d-4dd3-fa6e-c2675a35c7bd"
      },
      "outputs": [
        {
          "output_type": "execute_result",
          "data": {
            "text/plain": [
              "tensor([[ 0.6038,  0.7434],\n",
              "        [-0.3502,  0.5303],\n",
              "        [ 3.8695,  2.4246]], grad_fn=<MmBackward0>)"
            ]
          },
          "metadata": {},
          "execution_count": 11
        }
      ],
      "source": [
        "maskedSelfAttention.W_v(encodings_matrix)"
      ]
    },
    {
      "cell_type": "code",
      "execution_count": 12,
      "id": "7d88e411-84ac-4759-abcf-512cf8ff0670",
      "metadata": {
        "height": 47,
        "colab": {
          "base_uri": "https://localhost:8080/"
        },
        "id": "7d88e411-84ac-4759-abcf-512cf8ff0670",
        "outputId": "c8609700-2cd6-4cc6-d6bf-cf90c672bf1c"
      },
      "outputs": [
        {
          "output_type": "execute_result",
          "data": {
            "text/plain": [
              "tensor([[ 0.7621, -0.0428],\n",
              "        [ 1.1063,  0.7890],\n",
              "        [ 1.1164, -2.1336]], grad_fn=<MmBackward0>)"
            ]
          },
          "metadata": {},
          "execution_count": 12
        }
      ],
      "source": [
        "q = maskedSelfAttention.W_q(encodings_matrix)\n",
        "q"
      ]
    },
    {
      "cell_type": "code",
      "execution_count": 13,
      "id": "95e191e2-fab3-4290-8085-b64b436dc5e7",
      "metadata": {
        "height": 47,
        "colab": {
          "base_uri": "https://localhost:8080/"
        },
        "id": "95e191e2-fab3-4290-8085-b64b436dc5e7",
        "outputId": "8d4d25f4-7451-4d1a-ca9c-3da10f58cddd"
      },
      "outputs": [
        {
          "output_type": "execute_result",
          "data": {
            "text/plain": [
              "tensor([[-0.1469, -0.3038],\n",
              "        [ 0.1057,  0.3685],\n",
              "        [-0.9914, -2.4152]], grad_fn=<MmBackward0>)"
            ]
          },
          "metadata": {},
          "execution_count": 13
        }
      ],
      "source": [
        "k = maskedSelfAttention.W_k(encodings_matrix)\n",
        "k"
      ]
    },
    {
      "cell_type": "code",
      "execution_count": 14,
      "id": "b4f55998-e89b-40b6-9021-f764ba32a3b5",
      "metadata": {
        "height": 47,
        "colab": {
          "base_uri": "https://localhost:8080/"
        },
        "id": "b4f55998-e89b-40b6-9021-f764ba32a3b5",
        "outputId": "86cb4381-2299-4d36-d6c3-dea47a14ec3a"
      },
      "outputs": [
        {
          "output_type": "execute_result",
          "data": {
            "text/plain": [
              "tensor([[-0.0990,  0.0648, -0.6523],\n",
              "        [-0.4022,  0.4078, -3.0024],\n",
              "        [ 0.4842, -0.6683,  4.0461]], grad_fn=<MmBackward0>)"
            ]
          },
          "metadata": {},
          "execution_count": 14
        }
      ],
      "source": [
        "sims = torch.matmul(q, k.transpose(dim0=0, dim1=1))\n",
        "sims"
      ]
    },
    {
      "cell_type": "code",
      "execution_count": 15,
      "id": "91513a34-f0ab-4dd0-a45d-3eeed735681f",
      "metadata": {
        "height": 30,
        "id": "91513a34-f0ab-4dd0-a45d-3eeed735681f"
      },
      "outputs": [],
      "source": [
        "scaled_sims = sims / (torch.tensor(2)**0.5)"
      ]
    },
    {
      "cell_type": "code",
      "execution_count": 16,
      "id": "25245f19-d931-4b79-83cf-2e7643ec15da",
      "metadata": {
        "height": 30,
        "colab": {
          "base_uri": "https://localhost:8080/"
        },
        "id": "25245f19-d931-4b79-83cf-2e7643ec15da",
        "outputId": "71f29b19-bfd7-42b8-d14d-93a13451c7f4"
      },
      "outputs": [
        {
          "output_type": "execute_result",
          "data": {
            "text/plain": [
              "tensor([[-0.0700,  0.0458, -0.4612],\n",
              "        [-0.2844,  0.2883, -2.1230],\n",
              "        [ 0.3424, -0.4725,  2.8610]], grad_fn=<DivBackward0>)"
            ]
          },
          "metadata": {},
          "execution_count": 16
        }
      ],
      "source": [
        "scaled_sims"
      ]
    },
    {
      "cell_type": "code",
      "execution_count": 17,
      "id": "ccbf1f7f-f70c-429b-9820-f4b4a3429e9c",
      "metadata": {
        "height": 47,
        "colab": {
          "base_uri": "https://localhost:8080/"
        },
        "id": "ccbf1f7f-f70c-429b-9820-f4b4a3429e9c",
        "outputId": "44c4b9d5-f169-4f01-fed4-84701771ea89"
      },
      "outputs": [
        {
          "output_type": "execute_result",
          "data": {
            "text/plain": [
              "tensor([[-6.9975e-02, -1.0000e+09, -1.0000e+09],\n",
              "        [-2.8442e-01,  2.8833e-01, -1.0000e+09],\n",
              "        [ 3.4241e-01, -4.7253e-01,  2.8610e+00]],\n",
              "       grad_fn=<MaskedFillBackward0>)"
            ]
          },
          "metadata": {},
          "execution_count": 17
        }
      ],
      "source": [
        "masked_scaled_sims = scaled_sims.masked_fill(mask=mask, value=-1e9)\n",
        "masked_scaled_sims"
      ]
    },
    {
      "cell_type": "code",
      "execution_count": 18,
      "id": "e442e681-71c0-406a-a925-d3a08db3de23",
      "metadata": {
        "height": 47,
        "colab": {
          "base_uri": "https://localhost:8080/"
        },
        "id": "e442e681-71c0-406a-a925-d3a08db3de23",
        "outputId": "ca0667d6-cd52-41ce-e808-924efabf6797"
      },
      "outputs": [
        {
          "output_type": "execute_result",
          "data": {
            "text/plain": [
              "tensor([[1.0000, 0.0000, 0.0000],\n",
              "        [0.3606, 0.6394, 0.0000],\n",
              "        [0.0722, 0.0320, 0.8959]], grad_fn=<SoftmaxBackward0>)"
            ]
          },
          "metadata": {},
          "execution_count": 18
        }
      ],
      "source": [
        "attention_percents = F.softmax(masked_scaled_sims, dim=1)\n",
        "attention_percents"
      ]
    },
    {
      "cell_type": "code",
      "execution_count": 19,
      "id": "aec91f97-5127-4f4c-949f-ffe913b99417",
      "metadata": {
        "height": 30,
        "colab": {
          "base_uri": "https://localhost:8080/"
        },
        "id": "aec91f97-5127-4f4c-949f-ffe913b99417",
        "outputId": "0736abf3-ba9e-4a9c-f4a9-c66fd5ed43d0"
      },
      "outputs": [
        {
          "output_type": "execute_result",
          "data": {
            "text/plain": [
              "tensor([[ 0.6038,  0.7434],\n",
              "        [-0.0062,  0.6072],\n",
              "        [ 3.4989,  2.2427]], grad_fn=<MmBackward0>)"
            ]
          },
          "metadata": {},
          "execution_count": 19
        }
      ],
      "source": [
        "torch.matmul(attention_percents, maskedSelfAttention.W_v(encodings_matrix))"
      ]
    }
  ],
  "metadata": {
    "kernelspec": {
      "display_name": "Python 3 (ipykernel)",
      "language": "python",
      "name": "python3"
    },
    "language_info": {
      "codemirror_mode": {
        "name": "ipython",
        "version": 3
      },
      "file_extension": ".py",
      "mimetype": "text/x-python",
      "name": "python",
      "nbconvert_exporter": "python",
      "pygments_lexer": "ipython3",
      "version": "3.11.9"
    },
    "colab": {
      "provenance": []
    }
  },
  "nbformat": 4,
  "nbformat_minor": 5
}