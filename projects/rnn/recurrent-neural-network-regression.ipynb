{
 "cells": [
  {
   "cell_type": "code",
   "execution_count": 1,
   "id": "b02e80ac",
   "metadata": {
    "_cell_guid": "b1076dfc-b9ad-4769-8c92-a6c4dae69d19",
    "_uuid": "8f2839f25d086af736a60e9eeb907d3b93b6e0e5",
    "execution": {
     "iopub.execute_input": "2025-07-03T11:47:35.780363Z",
     "iopub.status.busy": "2025-07-03T11:47:35.780072Z",
     "iopub.status.idle": "2025-07-03T11:47:35.787089Z",
     "shell.execute_reply": "2025-07-03T11:47:35.786254Z"
    },
    "papermill": {
     "duration": 0.014393,
     "end_time": "2025-07-03T11:47:35.788614",
     "exception": false,
     "start_time": "2025-07-03T11:47:35.774221",
     "status": "completed"
    },
    "tags": []
   },
   "outputs": [],
   "source": [
    "import numpy as np\n",
    "import string\n",
    "import matplotlib.pyplot as plt"
   ]
  },
  {
   "cell_type": "markdown",
   "id": "116112e5",
   "metadata": {
    "papermill": {
     "duration": 0.00379,
     "end_time": "2025-07-03T11:47:35.796810",
     "exception": false,
     "start_time": "2025-07-03T11:47:35.793020",
     "status": "completed"
    },
    "tags": []
   },
   "source": [
    "## Math\n",
    "\n",
    "- s[t] = W.a[t-1] + U.x[t] + b\n",
    "- a[t] = tahn(s[t])\n",
    "- yhat = V.a[t] + c\n",
    "- loss = -y.log(yhat)\n",
    "\n",
    "## Parameters Update\n",
    "\n",
    "- U: input parameter\n",
    "- W: hidden state parameter\n",
    "- b: input bias\n",
    "- s[t]: input weighted sum\n",
    "- a[t]: activation / current hidden state\n",
    "- V: output parameter\n",
    "- c: output bias\n",
    "- yhat: prediction (output weighted sum)\n",
    "\n",
    "## Gradients / Derivatives: Output Layer\n",
    "\n",
    "### Derivative of the loss with respect to the prediction\n",
    "\n",
    "**1. MSE Loss:**\n",
    "For a regression problem where \\(y\\) is a scalar value, the MSE loss \\(L\\) is:\n",
    "$$L = \\frac{1}{n} \\sum_{i} (y_i - \\hat{y}_i)^2$$\n",
    "\n",
    "**2. Derivative of Loss with Respect to Output ($$\\frac{\\partial L}{\\partial o_i}$$):**\n",
    "\n",
    "We want to find how the loss changes with respect to a change in a single element \\(o_i\\) of the output \\(o\\). We can use the chain rule:\n",
    "\n",
    "$$\\frac{\\partial L}{\\partial o_i} = \\frac{2}{n} (y_i - \\hat{y}_i)$$\n",
    "\n",
    "### Derivative of the loss with respect to c (output bias)\n",
    "\n",
    "d(V.a[t] + c)/dc = 1 because V.a[t] is treated as constant, so the derivative of it is 0, and derivative of c is 1.\n",
    "\n",
    "- do[t]/dc = d(V.a[t] + c)/dc = 1\n",
    "- dLoss/dc = dLoss/do[t] . do[t]/dc\n",
    "- dLoss/dc = (y - yhat) . 1 = y - yhat\n",
    "\n",
    "### Derivative of the loss with respect to V (output weight)\n",
    "\n",
    "- do[t]/dV = d(V.a[t] + c)/dV = a[t]\n",
    "- dLoss/dV = dLoss/do[t] . do[t]/dV\n",
    "- dLoss/dV = (y - yhat) . a[t]\n",
    "\n",
    "## Gradients / Derivatives: Hidden Layer\n",
    "\n",
    "### Derivative of the loss with respect to current activation a[t]\n",
    "\n",
    "The gradient of the current activation w.r.t current output\n",
    "\n",
    "- do[t]/da[t] = d(V.a[t] + c)/dV = V\n",
    "- dL[t]/da[t] = dL[t]/do[t] . do[t]/da[t] = (y - yhat) . V\n",
    "\n",
    "The gradient of current activation w.r.t next time step’s loss\n",
    "\n",
    "- ds[t+1]/da[t] = d(W.a[t] + U.X[t+1] + b)/da[t] = W\n",
    "- dL[t+1]/da[t] = dL[t]/ds[t+1] . ds[t+1]/da[t] = dL[t+1]/ds[t+1] . W\n",
    "\n",
    "The gradient of loss w.r.t current activation a[t]\n",
    "\n",
    "- dL[t]/da[t] = (yhat - y) . V + dL[t+1]/ds[t+1] . W\n",
    "\n",
    "### Derivative of the loss with respect to weighted sum of the current time step\n",
    "\n",
    "- d(tanh(s[t]))/ds[t] = 1 - tanh(s[t])^2\n",
    "- dL[t]/ds[t] = dL[t]/da[t] . da[t]/ds[t] = dL[t]/da[t] . d(tanh(s[t]))/ds[t]\n",
    "- dL[t]/ds[t] = dL[t]/da[t] . d(tanh(s[t]))/ds[t] = dL[t]/da[t] . [1 - tanh(s[t])^2]\n",
    "\n",
    "### Derivative of the loss with respect to W\n",
    "\n",
    "- dL[t]/dW = dL[t]/da[t] . da[t]/ds[t] . ds[t]/dW\n",
    "- dL[t]/dW = dL[t]/ds[t] . ds[t]/dW\n",
    "- ds[t]/dW = d(W.a[t-1] + U.X[t] + b)/dW = a[t-1]\n",
    "- dL[t]/dW = dL[t]/ds[t] . a[t-1]\n",
    "\n",
    "### Derivative of the loss with respect to b\n",
    "\n",
    "- dL[t]/db = dL[t]/da[t] . da[t]/ds[t] . ds[t]/db\n",
    "- dL[t]/db = dL[t]/ds[t] . ds[t]/db\n",
    "- ds[t]/db = d(W.a[t-1] + U.X[t] + b)/db = 1\n",
    "- dL[t]/db = dL[t]/ds[t]\n",
    "\n",
    "## Gradients / Derivatives: Input Layer\n",
    "\n",
    "### Derivative of the loss with respect to U\n",
    "\n",
    "- dL[t]/dU = dL[t]/da[t] . da[t]/ds[t] . ds[t]/dU\n",
    "- dL[t]/dU = dL[t]/ds[t] . ds[t]/dU\n",
    "- ds[t]/dU = d(W.a[t-1] + U.X[t] + b)/dU = x[t]\n",
    "- dL[t]/dU = dL[t]/ds[t] . x[t]"
   ]
  },
  {
   "cell_type": "code",
   "execution_count": 2,
   "id": "c23baa8f",
   "metadata": {
    "execution": {
     "iopub.execute_input": "2025-07-03T11:47:35.806608Z",
     "iopub.status.busy": "2025-07-03T11:47:35.806302Z",
     "iopub.status.idle": "2025-07-03T11:47:35.810786Z",
     "shell.execute_reply": "2025-07-03T11:47:35.810019Z"
    },
    "papermill": {
     "duration": 0.010893,
     "end_time": "2025-07-03T11:47:35.812012",
     "exception": false,
     "start_time": "2025-07-03T11:47:35.801119",
     "status": "completed"
    },
    "tags": []
   },
   "outputs": [],
   "source": [
    "def xavier_uniform(fan_in, fan_out):\n",
    "    limit = np.sqrt(6 / (fan_in + fan_out))\n",
    "    return np.random.uniform(-limit, limit, size=(fan_out, fan_in))"
   ]
  },
  {
   "cell_type": "markdown",
   "id": "da2886ff",
   "metadata": {
    "papermill": {
     "duration": 0.003867,
     "end_time": "2025-07-03T11:47:35.820236",
     "exception": false,
     "start_time": "2025-07-03T11:47:35.816369",
     "status": "completed"
    },
    "tags": []
   },
   "source": [
    "## Input Layer"
   ]
  },
  {
   "cell_type": "code",
   "execution_count": 3,
   "id": "f8014543",
   "metadata": {
    "execution": {
     "iopub.execute_input": "2025-07-03T11:47:35.829502Z",
     "iopub.status.busy": "2025-07-03T11:47:35.829229Z",
     "iopub.status.idle": "2025-07-03T11:47:35.836069Z",
     "shell.execute_reply": "2025-07-03T11:47:35.835236Z"
    },
    "papermill": {
     "duration": 0.013327,
     "end_time": "2025-07-03T11:47:35.837456",
     "exception": false,
     "start_time": "2025-07-03T11:47:35.824129",
     "status": "completed"
    },
    "tags": []
   },
   "outputs": [],
   "source": [
    "class InputLayer:\n",
    "    def __init__(self, input_features_size, hidden_size):\n",
    "        '''\n",
    "        input_features_size: 1\n",
    "        hidden_size: 32\n",
    "        U shape: (32,1)\n",
    "        '''\n",
    "        self.U = xavier_uniform(input_features_size, hidden_size)\n",
    "        self.U_gradient = np.zeros_like(self.U)\n",
    "        self.input_sequence = None\n",
    "\n",
    "    def weighted_sum(self, time_step):\n",
    "        '''\n",
    "        U shape: (32,1)\n",
    "        get_input shape: (1,1)\n",
    "        Result shape: (32,1)\n",
    "        '''\n",
    "        return self.U @ self.get_input(time_step)\n",
    "\n",
    "    def compute_gradients(self, time_step, weighted_sum_gradient):\n",
    "        '''\n",
    "        - dL[t]/dU = dL[t]/ds[t] . x[t]\n",
    "        - weighted sum gradient shape: (32,1)\n",
    "        - input shape: (1,1)\n",
    "        - U gradient shape: (32,1) @ (1,1) = (32,1)\n",
    "        '''\n",
    "        self.U_gradient += (weighted_sum_gradient @ self.get_input(time_step))\n",
    "\n",
    "    def update_parameters(self, lr):\n",
    "        self.U -= self.U_gradient * lr\n",
    "\n",
    "    def get_input(self, time_step):\n",
    "        '''\n",
    "        1. self.input[time_step]\n",
    "           If self.input_sequence is (5, 1), then self.input_sequence[0] will be `np.array([1])`.\n",
    "           The shape of `np.array([1])` is (1,) -- a 1-dimensional array.\n",
    "        \n",
    "        2. .reshape(-1, 1)\n",
    "           `reshape(-1, 1)` means:\n",
    "           - The `-1` tells NumPy to automatically calculate the size of that dimension.\n",
    "           - The `1` means the second dimension should have a size of 1.\n",
    "           \n",
    "           So, `np.array([1]).reshape(-1, 1)` takes a (1,) array and reshapes it to (1, 1).\n",
    "           If it were a (3,) array like `np.array([1, 2, 3])`, `reshape(-1, 1)` would make it (3, 1).\n",
    "        '''\n",
    "        return self.input_sequence[time_step].reshape(-1, 1)\n",
    "\n",
    "    def set_input(self, input_sequence):\n",
    "        self.input_sequence = input_sequence\n",
    "\n",
    "    def zero_grad(self):\n",
    "        self.U_gradient.fill(0)"
   ]
  },
  {
   "cell_type": "markdown",
   "id": "14455463",
   "metadata": {
    "papermill": {
     "duration": 0.003579,
     "end_time": "2025-07-03T11:47:35.845160",
     "exception": false,
     "start_time": "2025-07-03T11:47:35.841581",
     "status": "completed"
    },
    "tags": []
   },
   "source": [
    "## Hidden Layer"
   ]
  },
  {
   "cell_type": "code",
   "execution_count": 4,
   "id": "b0bb175f",
   "metadata": {
    "execution": {
     "iopub.execute_input": "2025-07-03T11:47:35.854289Z",
     "iopub.status.busy": "2025-07-03T11:47:35.854001Z",
     "iopub.status.idle": "2025-07-03T11:47:35.863851Z",
     "shell.execute_reply": "2025-07-03T11:47:35.862718Z"
    },
    "papermill": {
     "duration": 0.016322,
     "end_time": "2025-07-03T11:47:35.865323",
     "exception": false,
     "start_time": "2025-07-03T11:47:35.849001",
     "status": "completed"
    },
    "tags": []
   },
   "outputs": [],
   "source": [
    "class HiddenLayer:\n",
    "    def __init__(self, sequence_length, hidden_size):\n",
    "        # W shape: (32,32)\n",
    "        self.W = xavier_uniform(hidden_size, hidden_size)\n",
    "        # bias shape: (32,1)\n",
    "        self.bias = np.zeros(shape=(hidden_size, 1))\n",
    "        # hidden states shape: (5,32,1)\n",
    "        self.hidden_states = np.zeros(shape=(sequence_length, hidden_size, 1))\n",
    "        self.W_gradient = np.zeros_like(self.W)\n",
    "        self.bias_gradient = np.zeros_like(self.bias)\n",
    "        self.next_activation_gradient = np.zeros(shape=(hidden_size, 1))\n",
    "    \n",
    "    def activate(self, time_step, weighted_input):\n",
    "        # weighted sum shape: (32,1)\n",
    "        weighted_sum = self.__weighted_sum(time_step, weighted_input)\n",
    "        # activation shape: (32,1)\n",
    "        activation = self.__activation(weighted_sum)\n",
    "        self.__set_hidden_state(time_step, activation)\n",
    "        return activation\n",
    "\n",
    "    def compute_gradients(self, time_step, output_gradient):\n",
    "        \"\"\"\n",
    "        Computes gradients for W and bias, and propagates the gradient to the previous time step.\n",
    "        Args:\n",
    "            time_step (int): Current time step (t).\n",
    "            output_gradient (np.ndarray): dL/da from the output layer (shape: hidden_size, 1).\n",
    "                                         This is also dL/da for the direct path to the loss.\n",
    "        \"\"\"\n",
    "        # output gradient shape: (32,1)\n",
    "        # next activation gradient shape: (32,1)\n",
    "        # activation gradient shape: (32,1)\n",
    "        activation_gradient = output_gradient + self.next_activation_gradient\n",
    "        # activation gradient shape: (32,1) * (1 - (32,1) ** 2) = (32,1)\n",
    "        self.weighted_sum_gradient = activation_gradient * (1 - self.get_hidden_state(time_step) ** 2)\n",
    "        # W shape: (32,32)\n",
    "        # weighted sum gradient shape: (32,1)\n",
    "        # next activation gradient shape: (32,1)\n",
    "        self.next_activation_gradient = self.W.T @ self.weighted_sum_gradient\n",
    "        # weighted sum gradient shape: (32,1)\n",
    "        # hidden state shape: (32,1)\n",
    "        # W gradient shape: (32,1) @ (32,1).T = (32,32)\n",
    "        self.W_gradient += self.weighted_sum_gradient @ self.get_hidden_state(time_step - 1).T\n",
    "        # bias gradient shape: (32,1)\n",
    "        self.bias_gradient += self.weighted_sum_gradient\n",
    "\n",
    "    def update_parameters(self, lr):\n",
    "        self.W -= self.W_gradient * lr\n",
    "        self.bias -= self.bias_gradient * lr\n",
    "\n",
    "    def __activation(self, weighted_sum):\n",
    "        return np.tanh(weighted_sum)\n",
    "\n",
    "    def __weighted_sum(self, time_step, weighted_input):\n",
    "        # weighted sum input + weighted sum previous hidden state + bias\n",
    "        weighted_hidden_state = self.__weighted_hidden_state(time_step)\n",
    "        # (32,1) + (32,1) + (32,1) = (32,1)\n",
    "        return weighted_input + weighted_hidden_state + self.bias\n",
    "\n",
    "    def __weighted_hidden_state(self, time_step):\n",
    "        # (32,32) @ (32,1) = (32,1)\n",
    "        return self.W @ self.get_hidden_state(time_step - 1)\n",
    "\n",
    "    def get_hidden_state(self, time_step):\n",
    "        return self.hidden_states[time_step] if time_step >= 0 else np.zeros_like(self.hidden_states[0])\n",
    "    \n",
    "    def __set_hidden_state(self, time_step, hidden_state):\n",
    "        self.hidden_states[time_step] = hidden_state\n",
    "\n",
    "    def zero_grad(self):\n",
    "        self.W_gradient.fill(0)\n",
    "        self.bias_gradient.fill(0)\n",
    "        self.hidden_states.fill(0)\n",
    "        self.next_activation_gradient.fill(0)"
   ]
  },
  {
   "cell_type": "markdown",
   "id": "7125c12f",
   "metadata": {
    "papermill": {
     "duration": 0.003701,
     "end_time": "2025-07-03T11:47:35.873044",
     "exception": false,
     "start_time": "2025-07-03T11:47:35.869343",
     "status": "completed"
    },
    "tags": []
   },
   "source": [
    "## Output Layer"
   ]
  },
  {
   "cell_type": "code",
   "execution_count": 5,
   "id": "32617043",
   "metadata": {
    "execution": {
     "iopub.execute_input": "2025-07-03T11:47:35.882133Z",
     "iopub.status.busy": "2025-07-03T11:47:35.881869Z",
     "iopub.status.idle": "2025-07-03T11:47:35.889946Z",
     "shell.execute_reply": "2025-07-03T11:47:35.888985Z"
    },
    "papermill": {
     "duration": 0.014638,
     "end_time": "2025-07-03T11:47:35.891456",
     "exception": false,
     "start_time": "2025-07-03T11:47:35.876818",
     "status": "completed"
    },
    "tags": []
   },
   "outputs": [],
   "source": [
    "class OutputLayer:\n",
    "    def __init__(self, sequence_length, hidden_size):\n",
    "        # V shape: (1,32)\n",
    "        self.V = xavier_uniform(hidden_size, 1)\n",
    "        # bias shape: (1,1)\n",
    "        self.bias = np.zeros(shape=(1, 1))\n",
    "        # predictions shape: (5,1)\n",
    "        # 5 time steps, 1 scalar prediction per time step\n",
    "        self.predictions = np.zeros(shape=(sequence_length, 1))\n",
    "        self.V_gradient = np.zeros_like(self.V)\n",
    "        self.bias_gradient = np.zeros_like(self.bias)\n",
    "        self.output_gradient = None\n",
    "    \n",
    "    def predict(self, time_step, activation):\n",
    "        # activation shape: (32,1)\n",
    "        # (5,1)\n",
    "        prediction = self.__weighted_sum(activation)\n",
    "        self.__set_prediction(time_step, prediction)\n",
    "        return prediction\n",
    "\n",
    "    def compute_gradients(self, time_step, y, activation):\n",
    "        \"\"\"\n",
    "        Computes the gradients for V and bias, and the gradient to pass back to the hidden layer.\n",
    "        Assumes Mean Squared Error (MSE) loss.\n",
    "\n",
    "        Args:\n",
    "            time_step (int): The current time step.\n",
    "            y (np.ndarray): The true target value for this time step, shape (1, 1).\n",
    "            activation (np.ndarray): The activation from the hidden layer at this time step, shape (hidden_size, 1).\n",
    "        \"\"\"\n",
    "        # (1,1) - (1,1) = (1,1)\n",
    "        # This is dLoss/d(prediction_output)\n",
    "        # For MSE: dLoss/d(output) = (target - output)\n",
    "        prediction_gradient = self.predictions[time_step].reshape(-1, 1) - y.reshape(-1, 1) # (1, 1)\n",
    "\n",
    "        # dLoss/dV = (output - target) @ activation.T\n",
    "        # prediction_gradient shape: (1,1)\n",
    "        # activation.T shape: (1, hidden_size) e.g., (1,32)\n",
    "        # V_gradient contribution shape: (1,1) @ (1,32) = (1,32)\n",
    "        self.V_gradient += prediction_gradient @ activation.T\n",
    "\n",
    "        # dLoss/dbias = (output - target)\n",
    "        # bias_gradient contribution shape: (1,1)\n",
    "        self.bias_gradient += prediction_gradient\n",
    "\n",
    "        # dLoss/d_activation_from_hidden_layer = V.T @ (output - target)\n",
    "        # V.T shape: (hidden_size, 1) e.g., (32,1)\n",
    "        # prediction_gradient shape: (1,1)\n",
    "        # output_gradient shape: (32,1) @ (1,1) = (32,1)\n",
    "        self.output_gradient = self.V.T @ prediction_gradient\n",
    "\n",
    "    def update_parameters(self, lr):\n",
    "        self.bias -= self.bias_gradient * lr\n",
    "        self.V -= self.V_gradient * lr\n",
    "\n",
    "    def __weighted_sum(self, activation):\n",
    "        # V shape: (1,32)\n",
    "        # activation shape: (32,1)\n",
    "        # bias shape: (1,1)\n",
    "        # (1,32) @ (32,1) = (1,1)\n",
    "        # (1,32) @ (32,1) + (1,1) = (1,1) + (1,1) = (1,1)\n",
    "        return self.V @ activation + self.bias\n",
    "\n",
    "    def __set_prediction(self, time_step, prediction):\n",
    "        self.predictions[time_step] = prediction\n",
    "\n",
    "    def zero_grad(self):\n",
    "        self.V_gradient.fill(0)\n",
    "        self.bias_gradient.fill(0)\n",
    "        self.predictions.fill(0)"
   ]
  },
  {
   "cell_type": "markdown",
   "id": "3ed8c1cb",
   "metadata": {
    "papermill": {
     "duration": 0.003677,
     "end_time": "2025-07-03T11:47:35.899226",
     "exception": false,
     "start_time": "2025-07-03T11:47:35.895549",
     "status": "completed"
    },
    "tags": []
   },
   "source": [
    "## Recurrent Neural Network"
   ]
  },
  {
   "cell_type": "code",
   "execution_count": 6,
   "id": "cc6ced82",
   "metadata": {
    "execution": {
     "iopub.execute_input": "2025-07-03T11:47:35.908137Z",
     "iopub.status.busy": "2025-07-03T11:47:35.907853Z",
     "iopub.status.idle": "2025-07-03T11:47:35.917638Z",
     "shell.execute_reply": "2025-07-03T11:47:35.916621Z"
    },
    "papermill": {
     "duration": 0.01629,
     "end_time": "2025-07-03T11:47:35.919337",
     "exception": false,
     "start_time": "2025-07-03T11:47:35.903047",
     "status": "completed"
    },
    "tags": []
   },
   "outputs": [],
   "source": [
    "class RecurrentNeuralNetwork:\n",
    "    def __init__(self, sequence_length, hidden_size, lr):\n",
    "        self.lr = lr\n",
    "        self.hidden_size = hidden_size\n",
    "        self.input_layer = InputLayer(input_features_size=1, hidden_size=hidden_size)\n",
    "        self.hidden_layer = HiddenLayer(sequence_length, hidden_size)\n",
    "        self.output_layer = OutputLayer(sequence_length, hidden_size)\n",
    "\n",
    "    def forward(self, X):\n",
    "        self.input_layer.set_input(X)\n",
    "        self.input_layer.zero_grad()\n",
    "        self.hidden_layer.zero_grad()\n",
    "        self.output_layer.zero_grad()\n",
    "\n",
    "        for time_step in range(len(X)):\n",
    "            weighted_input = self.input_layer.weighted_sum(time_step)\n",
    "            activation = self.hidden_layer.activate(time_step, weighted_input)\n",
    "            self.output_layer.predict(time_step, activation)\n",
    "\n",
    "        return self.output_layer.predictions\n",
    "\n",
    "    def backprop(self, Y):\n",
    "        for time_step in range(len(Y) - 1, -1, -1):\n",
    "            self.output_layer.compute_gradients(time_step, Y[time_step], self.hidden_layer.get_hidden_state(time_step))\n",
    "            self.hidden_layer.compute_gradients(time_step, self.output_layer.output_gradient)\n",
    "            self.input_layer.compute_gradients(time_step, self.hidden_layer.weighted_sum_gradient)\n",
    "\n",
    "        self.output_layer.update_parameters(lr=self.lr)\n",
    "        self.hidden_layer.update_parameters(lr=self.lr)\n",
    "        self.input_layer.update_parameters(lr=self.lr)\n",
    "\n",
    "    def loss(self, y, y_hat):\n",
    "        mse_loss = self.__mse(y, y_hat)\n",
    "        return mse_loss\n",
    "\n",
    "    def __mse(self, y, y_hat):\n",
    "        total_sum_squared_errors = 0.5 * np.sum((y - y_hat) ** 2)\n",
    "        return total_sum_squared_errors / y_hat.size\n",
    "    \n",
    "    def train(self, X, Y, epochs):\n",
    "        losses = []\n",
    "\n",
    "        for epoch in range(epochs):\n",
    "            total_loss = 0\n",
    "            permutation = np.random.permutation(X_train.shape[0])\n",
    "            X_shuffled = X[permutation]\n",
    "            Y_shuffled = Y[permutation]\n",
    "\n",
    "            for i in range(X_shuffled.shape[0]):\n",
    "                predictions = self.forward(X_shuffled[i])\n",
    "                self.backprop(Y_shuffled[i])\n",
    "                loss = self.loss(Y_shuffled[i], predictions)\n",
    "                total_loss += loss\n",
    "\n",
    "            avg_loss = total_loss / X_shuffled.shape[0]\n",
    "            losses.append(avg_loss)\n",
    "            print(f\"Epoch {epoch+1}/{epochs}, Average Loss: {avg_loss:.6f}\")\n",
    "\n",
    "        return losses"
   ]
  },
  {
   "cell_type": "markdown",
   "id": "f754deb4",
   "metadata": {
    "papermill": {
     "duration": 0.004383,
     "end_time": "2025-07-03T11:47:35.927855",
     "exception": false,
     "start_time": "2025-07-03T11:47:35.923472",
     "status": "completed"
    },
    "tags": []
   },
   "source": [
    "## Arithmetic Sequence Prediction\n",
    "\n",
    "RNN is tasked with learning the underlying rule (the common difference) of an arithmetic sequence so that, given a portion of the sequence, it can predict the subsequent numbers"
   ]
  },
  {
   "cell_type": "code",
   "execution_count": 7,
   "id": "36e75662",
   "metadata": {
    "execution": {
     "iopub.execute_input": "2025-07-03T11:47:35.937084Z",
     "iopub.status.busy": "2025-07-03T11:47:35.936526Z",
     "iopub.status.idle": "2025-07-03T11:47:35.942089Z",
     "shell.execute_reply": "2025-07-03T11:47:35.941234Z"
    },
    "papermill": {
     "duration": 0.011822,
     "end_time": "2025-07-03T11:47:35.943589",
     "exception": false,
     "start_time": "2025-07-03T11:47:35.931767",
     "status": "completed"
    },
    "tags": []
   },
   "outputs": [],
   "source": [
    "def generate_arithmetic_sequence_data(number_of_sequences, sequence_length, max_start=10, max_diff=5):\n",
    "    X_data = []\n",
    "    Y_data = []\n",
    "\n",
    "    for _ in range(number_of_sequences):\n",
    "        start_value = np.random.randint(1, max_start)\n",
    "        diff = np.random.randint(1, max_diff)\n",
    "        sequence = [start_value + i * diff for i in range(sequence_length + 1)]\n",
    "        X_data.append(np.array(sequence[:-1]).reshape(sequence_length, 1))\n",
    "        Y_data.append(np.array(sequence[1:]).reshape(sequence_length, 1))\n",
    "\n",
    "    return np.array(X_data), np.array(Y_data)"
   ]
  },
  {
   "cell_type": "code",
   "execution_count": 8,
   "id": "b6288b0f",
   "metadata": {
    "execution": {
     "iopub.execute_input": "2025-07-03T11:47:35.953168Z",
     "iopub.status.busy": "2025-07-03T11:47:35.952866Z",
     "iopub.status.idle": "2025-07-03T11:47:35.969960Z",
     "shell.execute_reply": "2025-07-03T11:47:35.969103Z"
    },
    "papermill": {
     "duration": 0.024247,
     "end_time": "2025-07-03T11:47:35.971829",
     "exception": false,
     "start_time": "2025-07-03T11:47:35.947582",
     "status": "completed"
    },
    "tags": []
   },
   "outputs": [],
   "source": [
    "# Example: 1000 sequences, each 5 steps long\n",
    "num_sequences = 1000\n",
    "sequence_length = 5\n",
    "X_train, Y_train = generate_arithmetic_sequence_data(num_sequences, sequence_length)"
   ]
  },
  {
   "cell_type": "code",
   "execution_count": 9,
   "id": "a073c175",
   "metadata": {
    "execution": {
     "iopub.execute_input": "2025-07-03T11:47:35.981508Z",
     "iopub.status.busy": "2025-07-03T11:47:35.980526Z",
     "iopub.status.idle": "2025-07-03T11:47:59.020719Z",
     "shell.execute_reply": "2025-07-03T11:47:59.019751Z"
    },
    "papermill": {
     "duration": 23.046357,
     "end_time": "2025-07-03T11:47:59.022222",
     "exception": false,
     "start_time": "2025-07-03T11:47:35.975865",
     "status": "completed"
    },
    "tags": []
   },
   "outputs": [
    {
     "name": "stdout",
     "output_type": "stream",
     "text": [
      "Epoch 1/100, Average Loss: 2.708718\n",
      "Epoch 2/100, Average Loss: 0.586951\n",
      "Epoch 3/100, Average Loss: 0.427858\n",
      "Epoch 4/100, Average Loss: 0.344243\n",
      "Epoch 5/100, Average Loss: 0.294519\n",
      "Epoch 6/100, Average Loss: 0.241118\n",
      "Epoch 7/100, Average Loss: 0.260751\n",
      "Epoch 8/100, Average Loss: 0.228800\n",
      "Epoch 9/100, Average Loss: 0.201831\n",
      "Epoch 10/100, Average Loss: 0.199145\n",
      "Epoch 11/100, Average Loss: 0.187843\n",
      "Epoch 12/100, Average Loss: 0.181136\n",
      "Epoch 13/100, Average Loss: 0.170397\n",
      "Epoch 14/100, Average Loss: 0.176388\n",
      "Epoch 15/100, Average Loss: 0.174246\n",
      "Epoch 16/100, Average Loss: 0.167459\n",
      "Epoch 17/100, Average Loss: 0.163758\n",
      "Epoch 18/100, Average Loss: 0.161702\n",
      "Epoch 19/100, Average Loss: 0.163593\n",
      "Epoch 20/100, Average Loss: 0.155168\n",
      "Epoch 21/100, Average Loss: 0.163049\n",
      "Epoch 22/100, Average Loss: 0.156084\n",
      "Epoch 23/100, Average Loss: 0.149837\n",
      "Epoch 24/100, Average Loss: 0.157057\n",
      "Epoch 25/100, Average Loss: 0.158400\n",
      "Epoch 26/100, Average Loss: 0.156629\n",
      "Epoch 27/100, Average Loss: 0.148562\n",
      "Epoch 28/100, Average Loss: 0.150539\n",
      "Epoch 29/100, Average Loss: 0.154131\n",
      "Epoch 30/100, Average Loss: 0.149666\n",
      "Epoch 31/100, Average Loss: 0.157033\n",
      "Epoch 32/100, Average Loss: 0.150005\n",
      "Epoch 33/100, Average Loss: 0.151700\n",
      "Epoch 34/100, Average Loss: 0.149775\n",
      "Epoch 35/100, Average Loss: 0.146067\n",
      "Epoch 36/100, Average Loss: 0.147428\n",
      "Epoch 37/100, Average Loss: 0.150828\n",
      "Epoch 38/100, Average Loss: 0.147259\n",
      "Epoch 39/100, Average Loss: 0.147058\n",
      "Epoch 40/100, Average Loss: 0.147164\n",
      "Epoch 41/100, Average Loss: 0.145935\n",
      "Epoch 42/100, Average Loss: 0.145981\n",
      "Epoch 43/100, Average Loss: 0.148594\n",
      "Epoch 44/100, Average Loss: 0.147113\n",
      "Epoch 45/100, Average Loss: 0.146867\n",
      "Epoch 46/100, Average Loss: 0.146160\n",
      "Epoch 47/100, Average Loss: 0.145705\n",
      "Epoch 48/100, Average Loss: 0.146759\n",
      "Epoch 49/100, Average Loss: 0.146275\n",
      "Epoch 50/100, Average Loss: 0.145251\n",
      "Epoch 51/100, Average Loss: 0.144032\n",
      "Epoch 52/100, Average Loss: 0.143371\n",
      "Epoch 53/100, Average Loss: 0.143524\n",
      "Epoch 54/100, Average Loss: 0.144822\n",
      "Epoch 55/100, Average Loss: 0.147011\n",
      "Epoch 56/100, Average Loss: 0.145260\n",
      "Epoch 57/100, Average Loss: 0.142861\n",
      "Epoch 58/100, Average Loss: 0.146558\n",
      "Epoch 59/100, Average Loss: 0.145060\n",
      "Epoch 60/100, Average Loss: 0.144914\n",
      "Epoch 61/100, Average Loss: 0.142886\n",
      "Epoch 62/100, Average Loss: 0.142069\n",
      "Epoch 63/100, Average Loss: 0.144163\n",
      "Epoch 64/100, Average Loss: 0.144031\n",
      "Epoch 65/100, Average Loss: 0.144038\n",
      "Epoch 66/100, Average Loss: 0.143605\n",
      "Epoch 67/100, Average Loss: 0.143156\n",
      "Epoch 68/100, Average Loss: 0.143546\n",
      "Epoch 69/100, Average Loss: 0.144501\n",
      "Epoch 70/100, Average Loss: 0.143084\n",
      "Epoch 71/100, Average Loss: 0.142579\n",
      "Epoch 72/100, Average Loss: 0.143845\n",
      "Epoch 73/100, Average Loss: 0.144153\n",
      "Epoch 74/100, Average Loss: 0.143542\n",
      "Epoch 75/100, Average Loss: 0.143260\n",
      "Epoch 76/100, Average Loss: 0.142322\n",
      "Epoch 77/100, Average Loss: 0.141587\n",
      "Epoch 78/100, Average Loss: 0.143323\n",
      "Epoch 79/100, Average Loss: 0.142448\n",
      "Epoch 80/100, Average Loss: 0.145934\n",
      "Epoch 81/100, Average Loss: 0.142369\n",
      "Epoch 82/100, Average Loss: 0.142381\n",
      "Epoch 83/100, Average Loss: 0.143354\n",
      "Epoch 84/100, Average Loss: 0.142123\n",
      "Epoch 85/100, Average Loss: 0.143682\n",
      "Epoch 86/100, Average Loss: 0.143019\n",
      "Epoch 87/100, Average Loss: 0.141795\n",
      "Epoch 88/100, Average Loss: 0.142648\n",
      "Epoch 89/100, Average Loss: 0.142295\n",
      "Epoch 90/100, Average Loss: 0.140822\n",
      "Epoch 91/100, Average Loss: 0.142506\n",
      "Epoch 92/100, Average Loss: 0.144285\n",
      "Epoch 93/100, Average Loss: 0.142801\n",
      "Epoch 94/100, Average Loss: 0.141173\n",
      "Epoch 95/100, Average Loss: 0.140747\n",
      "Epoch 96/100, Average Loss: 0.141138\n",
      "Epoch 97/100, Average Loss: 0.141460\n",
      "Epoch 98/100, Average Loss: 0.140570\n",
      "Epoch 99/100, Average Loss: 0.142432\n",
      "Epoch 100/100, Average Loss: 0.140846\n"
     ]
    }
   ],
   "source": [
    "rnn = RecurrentNeuralNetwork(sequence_length=sequence_length, hidden_size=32, lr=0.001)\n",
    "losses = rnn.train(X_train, Y_train, epochs=100)"
   ]
  },
  {
   "cell_type": "code",
   "execution_count": 10,
   "id": "d5baa384",
   "metadata": {
    "execution": {
     "iopub.execute_input": "2025-07-03T11:47:59.039585Z",
     "iopub.status.busy": "2025-07-03T11:47:59.039319Z",
     "iopub.status.idle": "2025-07-03T11:47:59.047547Z",
     "shell.execute_reply": "2025-07-03T11:47:59.046564Z"
    },
    "papermill": {
     "duration": 0.018666,
     "end_time": "2025-07-03T11:47:59.049219",
     "exception": false,
     "start_time": "2025-07-03T11:47:59.030553",
     "status": "completed"
    },
    "tags": []
   },
   "outputs": [
    {
     "data": {
      "text/plain": [
       "array([[ 3.34744268],\n",
       "       [ 8.72062357],\n",
       "       [14.88230529],\n",
       "       [20.03982842],\n",
       "       [24.84837237]])"
      ]
     },
     "execution_count": 10,
     "metadata": {},
     "output_type": "execute_result"
    }
   ],
   "source": [
    "test_input = np.array([[1], [5], [10], [15], [20]])\n",
    "predictions = rnn.forward(test_input)\n",
    "predictions"
   ]
  },
  {
   "cell_type": "code",
   "execution_count": 11,
   "id": "208782ee",
   "metadata": {
    "execution": {
     "iopub.execute_input": "2025-07-03T11:47:59.066815Z",
     "iopub.status.busy": "2025-07-03T11:47:59.066509Z",
     "iopub.status.idle": "2025-07-03T11:47:59.328596Z",
     "shell.execute_reply": "2025-07-03T11:47:59.327521Z"
    },
    "papermill": {
     "duration": 0.272525,
     "end_time": "2025-07-03T11:47:59.330204",
     "exception": false,
     "start_time": "2025-07-03T11:47:59.057679",
     "status": "completed"
    },
    "tags": []
   },
   "outputs": [
    {
     "data": {
      "text/plain": [
       "<matplotlib.legend.Legend at 0x789ebad9aad0>"
      ]
     },
     "execution_count": 11,
     "metadata": {},
     "output_type": "execute_result"
    },
    {
     "data": {
      "image/png": "[encoded data removed]",
      "text/plain": [
       "<Figure size 640x480 with 1 Axes>"
      ]
     },
     "metadata": {},
     "output_type": "display_data"
    }
   ],
   "source": [
    "plt.plot(losses, label='loss')\n",
    "plt.ylabel('Loss')\n",
    "plt.xlabel('Epoch')\n",
    "plt.legend()"
   ]
  },
  {
   "cell_type": "markdown",
   "id": "769a7729",
   "metadata": {
    "papermill": {
     "duration": 0.009547,
     "end_time": "2025-07-03T11:47:59.348759",
     "exception": false,
     "start_time": "2025-07-03T11:47:59.339212",
     "status": "completed"
    },
    "tags": []
   },
   "source": [
    "## Geometric Sequence Prediction"
   ]
  },
  {
   "cell_type": "code",
   "execution_count": 12,
   "id": "5e9cc642",
   "metadata": {
    "execution": {
     "iopub.execute_input": "2025-07-03T11:47:59.369752Z",
     "iopub.status.busy": "2025-07-03T11:47:59.368529Z",
     "iopub.status.idle": "2025-07-03T11:47:59.376060Z",
     "shell.execute_reply": "2025-07-03T11:47:59.374908Z"
    },
    "papermill": {
     "duration": 0.018927,
     "end_time": "2025-07-03T11:47:59.377610",
     "exception": false,
     "start_time": "2025-07-03T11:47:59.358683",
     "status": "completed"
    },
    "tags": []
   },
   "outputs": [],
   "source": [
    "def generate_geometric_sequence_data(num_sequences, sequence_length, max_start=100, max_ratio=10):\n",
    "    X_data = []\n",
    "    Y_data = []\n",
    "\n",
    "    for _ in range(num_sequences):\n",
    "        start = np.random.randint(1, max_start)\n",
    "        ratio = np.random.randint(2, max_ratio + 1)\n",
    "        current_sequence_full = []\n",
    "\n",
    "        for _ in range(sequence_length + 1):\n",
    "            current_sequence_full.append(start)\n",
    "            start *= ratio\n",
    "\n",
    "        X_data.append(np.array(current_sequence_full[:-1]).reshape(sequence_length, 1))\n",
    "        Y_data.append(np.array(current_sequence_full[1:]).reshape(sequence_length, 1))\n",
    "\n",
    "    return np.array(X_data), np.array(Y_data)"
   ]
  },
  {
   "cell_type": "code",
   "execution_count": 13,
   "id": "17424c6a",
   "metadata": {
    "execution": {
     "iopub.execute_input": "2025-07-03T11:47:59.396360Z",
     "iopub.status.busy": "2025-07-03T11:47:59.395566Z",
     "iopub.status.idle": "2025-07-03T11:47:59.414765Z",
     "shell.execute_reply": "2025-07-03T11:47:59.414012Z"
    },
    "papermill": {
     "duration": 0.030093,
     "end_time": "2025-07-03T11:47:59.416503",
     "exception": false,
     "start_time": "2025-07-03T11:47:59.386410",
     "status": "completed"
    },
    "tags": []
   },
   "outputs": [],
   "source": [
    "class MinMaxScaler:\n",
    "    def __init__(self):\n",
    "        self.min_val = None\n",
    "        self.max_val = None\n",
    "\n",
    "    def fit(self, data):\n",
    "        # Flatten data to find min/max across all samples/steps\n",
    "        flattened_data = data.flatten()\n",
    "        self.min_val = np.min(flattened_data)\n",
    "        self.max_val = np.max(flattened_data)\n",
    "        if self.max_val == self.min_val: # Handle constant data\n",
    "            self.min_val -= 1\n",
    "            self.max_val += 1\n",
    "\n",
    "    def transform(self, data):\n",
    "        return (data - self.min_val) / (self.max_val - self.min_val)\n",
    "\n",
    "    def inverse_transform(self, scaled_data):\n",
    "        return scaled_data * (self.max_val - self.min_val) + self.min_val\n",
    "\n",
    "# Example: 1000 sequences, each 5 steps long\n",
    "num_sequences = 1000\n",
    "sequence_length = 5\n",
    "X_train, Y_train = generate_geometric_sequence_data(num_sequences, sequence_length)\n",
    "\n",
    "# Initialize scalers\n",
    "x_scaler = MinMaxScaler()\n",
    "y_scaler = MinMaxScaler()\n",
    "\n",
    "# Fit scalers to the entire dataset (or just training set)\n",
    "# It's crucial to fit on the full range of expected data values.\n",
    "# For geometric sequences, numbers can become very large.\n",
    "# You might need to generate a very large set of sequences to get\n",
    "# a good estimate of the global min/max, or explicitly define min/max if known.\n",
    "# For simplicity, fitting on the generated data:\n",
    "combined_data = np.concatenate((X_train, Y_train), axis=1) # Combine for fitting\n",
    "x_scaler.fit(combined_data)\n",
    "y_scaler.fit(combined_data) # Often same scaler for X and Y in this task\n",
    "\n",
    "# Transform data\n",
    "X_train_scaled = x_scaler.transform(X_train)\n",
    "Y_train_scaled = y_scaler.transform(Y_train)"
   ]
  },
  {
   "cell_type": "code",
   "execution_count": 14,
   "id": "d29e1da1",
   "metadata": {
    "execution": {
     "iopub.execute_input": "2025-07-03T11:47:59.435244Z",
     "iopub.status.busy": "2025-07-03T11:47:59.434509Z",
     "iopub.status.idle": "2025-07-03T11:48:21.366022Z",
     "shell.execute_reply": "2025-07-03T11:48:21.365028Z"
    },
    "papermill": {
     "duration": 21.942436,
     "end_time": "2025-07-03T11:48:21.367811",
     "exception": false,
     "start_time": "2025-07-03T11:47:59.425375",
     "status": "completed"
    },
    "tags": []
   },
   "outputs": [
    {
     "name": "stdout",
     "output_type": "stream",
     "text": [
      "Epoch 1/100, Average Loss: 0.004413\n",
      "Epoch 2/100, Average Loss: 0.004247\n",
      "Epoch 3/100, Average Loss: 0.004160\n",
      "Epoch 4/100, Average Loss: 0.004126\n",
      "Epoch 5/100, Average Loss: 0.004128\n",
      "Epoch 6/100, Average Loss: 0.004103\n",
      "Epoch 7/100, Average Loss: 0.004063\n",
      "Epoch 8/100, Average Loss: 0.004040\n",
      "Epoch 9/100, Average Loss: 0.004013\n",
      "Epoch 10/100, Average Loss: 0.003991\n",
      "Epoch 11/100, Average Loss: 0.003982\n",
      "Epoch 12/100, Average Loss: 0.003912\n",
      "Epoch 13/100, Average Loss: 0.003927\n",
      "Epoch 14/100, Average Loss: 0.003893\n",
      "Epoch 15/100, Average Loss: 0.003862\n",
      "Epoch 16/100, Average Loss: 0.003839\n",
      "Epoch 17/100, Average Loss: 0.003840\n",
      "Epoch 18/100, Average Loss: 0.003829\n",
      "Epoch 19/100, Average Loss: 0.003799\n",
      "Epoch 20/100, Average Loss: 0.003781\n",
      "Epoch 21/100, Average Loss: 0.003764\n",
      "Epoch 22/100, Average Loss: 0.003704\n",
      "Epoch 23/100, Average Loss: 0.003744\n",
      "Epoch 24/100, Average Loss: 0.003723\n",
      "Epoch 25/100, Average Loss: 0.003702\n",
      "Epoch 26/100, Average Loss: 0.003710\n",
      "Epoch 27/100, Average Loss: 0.003693\n",
      "Epoch 28/100, Average Loss: 0.003679\n",
      "Epoch 29/100, Average Loss: 0.003639\n",
      "Epoch 30/100, Average Loss: 0.003623\n",
      "Epoch 31/100, Average Loss: 0.003593\n",
      "Epoch 32/100, Average Loss: 0.003559\n",
      "Epoch 33/100, Average Loss: 0.003571\n",
      "Epoch 34/100, Average Loss: 0.003545\n",
      "Epoch 35/100, Average Loss: 0.003563\n",
      "Epoch 36/100, Average Loss: 0.003529\n",
      "Epoch 37/100, Average Loss: 0.003519\n",
      "Epoch 38/100, Average Loss: 0.003509\n",
      "Epoch 39/100, Average Loss: 0.003493\n",
      "Epoch 40/100, Average Loss: 0.003471\n",
      "Epoch 41/100, Average Loss: 0.003424\n",
      "Epoch 42/100, Average Loss: 0.003435\n",
      "Epoch 43/100, Average Loss: 0.003427\n",
      "Epoch 44/100, Average Loss: 0.003407\n",
      "Epoch 45/100, Average Loss: 0.003388\n",
      "Epoch 46/100, Average Loss: 0.003345\n",
      "Epoch 47/100, Average Loss: 0.003366\n",
      "Epoch 48/100, Average Loss: 0.003346\n",
      "Epoch 49/100, Average Loss: 0.003342\n",
      "Epoch 50/100, Average Loss: 0.003308\n",
      "Epoch 51/100, Average Loss: 0.003324\n",
      "Epoch 52/100, Average Loss: 0.003302\n",
      "Epoch 53/100, Average Loss: 0.003275\n",
      "Epoch 54/100, Average Loss: 0.003264\n",
      "Epoch 55/100, Average Loss: 0.003243\n",
      "Epoch 56/100, Average Loss: 0.003238\n",
      "Epoch 57/100, Average Loss: 0.003211\n",
      "Epoch 58/100, Average Loss: 0.003203\n",
      "Epoch 59/100, Average Loss: 0.003184\n",
      "Epoch 60/100, Average Loss: 0.003180\n",
      "Epoch 61/100, Average Loss: 0.003147\n",
      "Epoch 62/100, Average Loss: 0.003126\n",
      "Epoch 63/100, Average Loss: 0.003141\n",
      "Epoch 64/100, Average Loss: 0.003116\n",
      "Epoch 65/100, Average Loss: 0.003088\n",
      "Epoch 66/100, Average Loss: 0.003066\n",
      "Epoch 67/100, Average Loss: 0.003065\n",
      "Epoch 68/100, Average Loss: 0.003065\n",
      "Epoch 69/100, Average Loss: 0.003042\n",
      "Epoch 70/100, Average Loss: 0.003040\n",
      "Epoch 71/100, Average Loss: 0.003023\n",
      "Epoch 72/100, Average Loss: 0.003003\n",
      "Epoch 73/100, Average Loss: 0.002977\n",
      "Epoch 74/100, Average Loss: 0.002978\n",
      "Epoch 75/100, Average Loss: 0.002960\n",
      "Epoch 76/100, Average Loss: 0.002936\n",
      "Epoch 77/100, Average Loss: 0.002919\n",
      "Epoch 78/100, Average Loss: 0.002906\n",
      "Epoch 79/100, Average Loss: 0.002900\n",
      "Epoch 80/100, Average Loss: 0.002881\n",
      "Epoch 81/100, Average Loss: 0.002886\n",
      "Epoch 82/100, Average Loss: 0.002841\n",
      "Epoch 83/100, Average Loss: 0.002829\n",
      "Epoch 84/100, Average Loss: 0.002837\n",
      "Epoch 85/100, Average Loss: 0.002810\n",
      "Epoch 86/100, Average Loss: 0.002814\n",
      "Epoch 87/100, Average Loss: 0.002798\n",
      "Epoch 88/100, Average Loss: 0.002791\n",
      "Epoch 89/100, Average Loss: 0.002764\n",
      "Epoch 90/100, Average Loss: 0.002755\n",
      "Epoch 91/100, Average Loss: 0.002747\n",
      "Epoch 92/100, Average Loss: 0.002723\n",
      "Epoch 93/100, Average Loss: 0.002717\n",
      "Epoch 94/100, Average Loss: 0.002715\n",
      "Epoch 95/100, Average Loss: 0.002687\n",
      "Epoch 96/100, Average Loss: 0.002684\n",
      "Epoch 97/100, Average Loss: 0.002637\n",
      "Epoch 98/100, Average Loss: 0.002645\n",
      "Epoch 99/100, Average Loss: 0.002640\n",
      "Epoch 100/100, Average Loss: 0.002626\n"
     ]
    }
   ],
   "source": [
    "rnn = RecurrentNeuralNetwork(sequence_length=sequence_length, hidden_size=32, lr=0.001)\n",
    "losses = rnn.train(X_train_scaled, Y_train_scaled, epochs=100)"
   ]
  },
  {
   "cell_type": "code",
   "execution_count": 15,
   "id": "d05614c5",
   "metadata": {
    "execution": {
     "iopub.execute_input": "2025-07-03T11:48:21.394693Z",
     "iopub.status.busy": "2025-07-03T11:48:21.394369Z",
     "iopub.status.idle": "2025-07-03T11:48:21.576981Z",
     "shell.execute_reply": "2025-07-03T11:48:21.575995Z"
    },
    "papermill": {
     "duration": 0.197496,
     "end_time": "2025-07-03T11:48:21.578757",
     "exception": false,
     "start_time": "2025-07-03T11:48:21.381261",
     "status": "completed"
    },
    "tags": []
   },
   "outputs": [
    {
     "data": {
      "text/plain": [
       "<matplotlib.legend.Legend at 0x789ebac26790>"
      ]
     },
     "execution_count": 15,
     "metadata": {},
     "output_type": "execute_result"
    },
    {
     "data": {
      "image/png": "[encoded data removed]",
      "text/plain": [
       "<Figure size 640x480 with 1 Axes>"
      ]
     },
     "metadata": {},
     "output_type": "display_data"
    }
   ],
   "source": [
    "plt.plot(losses, label='loss')\n",
    "plt.ylabel('Loss')\n",
    "plt.xlabel('Epoch')\n",
    "plt.legend()"
   ]
  },
  {
   "cell_type": "code",
   "execution_count": 16,
   "id": "94f6c1ac",
   "metadata": {
    "execution": {
     "iopub.execute_input": "2025-07-03T11:48:21.607367Z",
     "iopub.status.busy": "2025-07-03T11:48:21.607012Z",
     "iopub.status.idle": "2025-07-03T11:48:21.615411Z",
     "shell.execute_reply": "2025-07-03T11:48:21.614048Z"
    },
    "papermill": {
     "duration": 0.024357,
     "end_time": "2025-07-03T11:48:21.617292",
     "exception": false,
     "start_time": "2025-07-03T11:48:21.592935",
     "status": "completed"
    },
    "tags": []
   },
   "outputs": [
    {
     "data": {
      "text/plain": [
       "(array([[0.00186249],\n",
       "        [0.00526154],\n",
       "        [0.00965921],\n",
       "        [0.02203122],\n",
       "        [0.11001782]]),\n",
       " array([[[2.11111132e-05],\n",
       "         [6.35353600e-05],\n",
       "         [1.90808100e-04],\n",
       "         [5.72626320e-04],\n",
       "         [1.71808098e-03]],\n",
       " \n",
       "        [[1.68686886e-05],\n",
       "         [3.38383873e-05],\n",
       "         [6.77777846e-05],\n",
       "         [1.35656579e-04],\n",
       "         [2.71414169e-04]],\n",
       " \n",
       "        [[4.73737422e-05],\n",
       "         [2.37272751e-04],\n",
       "         [1.18676780e-03],\n",
       "         [5.93424302e-03],\n",
       "         [2.96716192e-02]],\n",
       " \n",
       "        ...,\n",
       " \n",
       "        [[2.33333357e-05],\n",
       "         [1.87373756e-04],\n",
       "         [1.49969712e-03],\n",
       "         [1.19982840e-02],\n",
       "         [9.59869794e-02]],\n",
       " \n",
       "        [[3.72727310e-05],\n",
       "         [3.73636401e-04],\n",
       "         [3.73727310e-03],\n",
       "         [3.73736401e-02],\n",
       "         [3.73737310e-01]],\n",
       " \n",
       "        [[6.13131375e-05],\n",
       "         [4.91212171e-04],\n",
       "         [3.93040444e-03],\n",
       "         [3.14439426e-02],\n",
       "         [2.51552248e-01]]]))"
      ]
     },
     "execution_count": 16,
     "metadata": {},
     "output_type": "execute_result"
    }
   ],
   "source": [
    "predictions = rnn.forward(X_train_scaled[0])\n",
    "predictions, Y_train_scaled"
   ]
  },
  {
   "cell_type": "code",
   "execution_count": 17,
   "id": "7a1aa292",
   "metadata": {
    "execution": {
     "iopub.execute_input": "2025-07-03T11:48:21.650500Z",
     "iopub.status.busy": "2025-07-03T11:48:21.649501Z",
     "iopub.status.idle": "2025-07-03T11:48:21.658840Z",
     "shell.execute_reply": "2025-07-03T11:48:21.657931Z"
    },
    "papermill": {
     "duration": 0.028436,
     "end_time": "2025-07-03T11:48:21.660184",
     "exception": false,
     "start_time": "2025-07-03T11:48:21.631748",
     "status": "completed"
    },
    "tags": []
   },
   "outputs": [
    {
     "data": {
      "text/plain": [
       "array([[0.00185045],\n",
       "       [0.01948212],\n",
       "       [0.07531212],\n",
       "       [0.24437199],\n",
       "       [0.79541661]])"
      ]
     },
     "execution_count": 17,
     "metadata": {},
     "output_type": "execute_result"
    }
   ],
   "source": [
    "X_test = np.array([[2], [6], [18], [54], [162]])\n",
    "Y_test = np.array([[6], [18], [54], [162], [486]])\n",
    "\n",
    "# Initialize scalers\n",
    "x_scaler = MinMaxScaler()\n",
    "y_scaler = MinMaxScaler()\n",
    "\n",
    "# Fit scalers to the entire dataset (or just training set)\n",
    "# It's crucial to fit on the full range of expected data values.\n",
    "# For geometric sequences, numbers can become very large.\n",
    "# You might need to generate a very large set of sequences to get\n",
    "# a good estimate of the global min/max, or explicitly define min/max if known.\n",
    "# For simplicity, fitting on the generated data:\n",
    "combined_data = np.concatenate((X_test, Y_test), axis=1) # Combine for fitting\n",
    "x_scaler.fit(combined_data)\n",
    "y_scaler.fit(combined_data) # Often same scaler for X and Y in this task\n",
    "\n",
    "# Transform data\n",
    "X_train_scaled = x_scaler.transform(X_test)\n",
    "Y_train_scaled = y_scaler.transform(Y_test)\n",
    "\n",
    "predictions = rnn.forward(X_train_scaled)\n",
    "predictions"
   ]
  }
 ],
 "metadata": {
  "kaggle": {
   "accelerator": "none",
   "dataSources": [],
   "dockerImageVersionId": 31040,
   "isGpuEnabled": false,
   "isInternetEnabled": true,
   "language": "python",
   "sourceType": "notebook"
  },
  "kernelspec": {
   "display_name": "Python 3",
   "language": "python",
   "name": "python3"
  },
  "language_info": {
   "codemirror_mode": {
    "name": "ipython",
    "version": 3
   },
   "file_extension": ".py",
   "mimetype": "text/x-python",
   "name": "python",
   "nbconvert_exporter": "python",
   "pygments_lexer": "ipython3",
   "version": "3.11.11"
  },
  "papermill": {
   "default_parameters": {},
   "duration": 50.873502,
   "end_time": "2025-07-03T11:48:22.092936",
   "environment_variables": {},
   "exception": null,
   "input_path": "__notebook__.ipynb",
   "output_path": "__notebook__.ipynb",
   "parameters": {},
   "start_time": "2025-07-03T11:47:31.219434",
   "version": "2.6.0"
  }
 },
 "nbformat": 4,
 "nbformat_minor": 5
}
